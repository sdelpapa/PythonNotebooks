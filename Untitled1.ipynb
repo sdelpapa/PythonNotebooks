{
 "cells": [
  {
   "cell_type": "code",
   "execution_count": null,
   "metadata": {
    "collapsed": false
   },
   "outputs": [],
   "source": [
    "numero = [i for i in range(1,14)]\n",
    "\n",
    "sinal = [\"A\"]\n",
    "sinal += [str(i) for i in range(2,11)]\n",
    "sinal += [\"J\", \"Q\", \"K\"]\n",
    "\n",
    "valor = [i for i in range(1,10)]\n",
    "valor += [10, 10, 10]\n",
    "\n",
    "numero, sinal, valor\n",
    "\n",
    "#numero[12], sinal[12]"
   ]
  },
  {
   "cell_type": "code",
   "execution_count": null,
   "metadata": {
    "collapsed": true
   },
   "outputs": [],
   "source": []
  }
 ],
 "metadata": {
  "kernelspec": {
   "display_name": "Python 3",
   "language": "python",
   "name": "python3"
  },
  "language_info": {
   "codemirror_mode": {
    "name": "ipython",
    "version": 3
   },
   "file_extension": ".py",
   "mimetype": "text/x-python",
   "name": "python",
   "nbconvert_exporter": "python",
   "pygments_lexer": "ipython3",
   "version": "3.6.0"
  }
 },
 "nbformat": 4,
 "nbformat_minor": 2
}
