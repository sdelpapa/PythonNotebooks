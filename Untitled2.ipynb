{
 "cells": [
  {
   "cell_type": "code",
   "execution_count": 9,
   "metadata": {
    "collapsed": false
   },
   "outputs": [
    {
     "data": {
      "text/plain": [
       "52"
      ]
     },
     "execution_count": 9,
     "metadata": {},
     "output_type": "execute_result"
    }
   ],
   "source": [
    "sinal = [\"A\"]\n",
    "sinal += [str(i) for i in range(2,11)]\n",
    "sinal += [\"J\", \"Q\", \"K\"]\n",
    "\n",
    "naipe = [\"PAUS\", \"COPAS\", \"ESPADAS\", \"OUROS\"]\n",
    "\n",
    "valor = [i for i in range(1,11)]\n",
    "valor += [10, 10, 10]\n",
    "\n",
    "baralho = []\n",
    "i = 0\n",
    "for x in range(0,4):\n",
    "        for j in range(0,13):\n",
    "            baralho.append([i, naipe[x], sinal[j], valor[j]])\n",
    "            i += 1\n",
    "        \n",
    "len(baralho)\n",
    "\n",
    "#numero[12], sinal[12]"
   ]
  },
  {
   "cell_type": "code",
   "execution_count": null,
   "metadata": {
    "collapsed": false
   },
   "outputs": [],
   "source": [
    "x = \"abc\"\n",
    "x.upper()[0]"
   ]
  },
  {
   "cell_type": "code",
   "execution_count": null,
   "metadata": {
    "collapsed": true
   },
   "outputs": [],
   "source": []
  }
 ],
 "metadata": {
  "kernelspec": {
   "display_name": "Python 3",
   "language": "python",
   "name": "python3"
  },
  "language_info": {
   "codemirror_mode": {
    "name": "ipython",
    "version": 3
   },
   "file_extension": ".py",
   "mimetype": "text/x-python",
   "name": "python",
   "nbconvert_exporter": "python",
   "pygments_lexer": "ipython3",
   "version": "3.6.0"
  }
 },
 "nbformat": 4,
 "nbformat_minor": 2
}
